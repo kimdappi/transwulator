{
  "nbformat": 4,
  "nbformat_minor": 0,
  "metadata": {
    "colab": {
      "private_outputs": true,
      "provenance": []
    },
    "kernelspec": {
      "name": "python3",
      "display_name": "Python 3"
    },
    "language_info": {
      "name": "python"
    }
  },
  "cells": [
    {
      "cell_type": "code",
      "execution_count": null,
      "metadata": {
        "id": "0JroCAD-_Ehi"
      },
      "outputs": [],
      "source": [
        "# 필요한 라이브러리 설치\n",
        "!pip install yt-dlp\n",
        "!pip install pydub\n",
        "!pip install SpeechRecognition"
      ]
    },
    {
      "cell_type": "code",
      "source": [
        "import yt_dlp\n",
        "import os\n",
        "import glob\n",
        "from pydub import AudioSegment\n",
        "import speech_recognition as sr\n",
        "from math import floor"
      ],
      "metadata": {
        "id": "wyZL2ypi_Oxd"
      },
      "execution_count": null,
      "outputs": []
    },
    {
      "cell_type": "code",
      "source": [
        "def download_audio_from_youtube(url, out_template='downloaded_audio.%(ext)s'):\n",
        "    \"\"\"\n",
        "    yt-dlp로 원본 포맷(예: webm)을 그대로 저장.\n",
        "    반환: 저장된 파일 경로 (확장자 포함) 또는 None\n",
        "    \"\"\"\n",
        "    ydl_opts = {\n",
        "        'format': 'bestaudio/best',\n",
        "        'outtmpl': out_template,\n",
        "        'quiet': False,\n",
        "        'no_warnings': True,\n",
        "    }\n",
        "    try:\n",
        "        with yt_dlp.YoutubeDL(ydl_opts) as ydl:\n",
        "            ydl.download([url])\n",
        "        # 파일명은 out_template에서 %()s 부분에 실제 확장자가 들어가므로 glob으로 찾음\n",
        "        candidates = glob.glob('downloaded_audio.*')\n",
        "        if candidates:\n",
        "            # 최신 생성 파일 반환\n",
        "            candidates.sort(key=os.path.getmtime, reverse=True)\n",
        "            return candidates[0]\n",
        "        return None\n",
        "    except Exception as e:\n",
        "        print(\"다운로드 에러:\", e)\n",
        "        return None"
      ],
      "metadata": {
        "id": "x6OyZsv9_Xb9"
      },
      "execution_count": null,
      "outputs": []
    },
    {
      "cell_type": "code",
      "source": [
        "def convert_to_wav(input_filepath, wav_path='converted_audio.wav'):\n",
        "    \"\"\"\n",
        "    pydub의 자동 포맷 감지를 사용하여 입력파일을 WAV로 변환.\n",
        "    \"\"\"\n",
        "    try:\n",
        "        audio = AudioSegment.from_file(input_filepath)  # format 자동 감지\n",
        "        audio.export(wav_path, format='wav')\n",
        "        return wav_path\n",
        "    except Exception as e:\n",
        "        print(\"변환 에러:\", e)\n",
        "        return None"
      ],
      "metadata": {
        "id": "2BHD24YMAdZa"
      },
      "execution_count": null,
      "outputs": []
    },
    {
      "cell_type": "code",
      "source": [
        "def split_audio(wav_path, chunk_length_s=30):\n",
        "    \"\"\"\n",
        "    WAV 파일을 chunk_length_s 초 단위로 나눔.\n",
        "    반환: [(start_s, end_s, chunk_path), ...]\n",
        "    \"\"\"\n",
        "    audio = AudioSegment.from_file(wav_path, format='wav')\n",
        "    duration_ms = len(audio)\n",
        "    chunk_ms = chunk_length_s * 1000\n",
        "    chunks = []\n",
        "    idx = 0\n",
        "    start_ms = 0\n",
        "    while start_ms < duration_ms:\n",
        "        end_ms = min(start_ms + chunk_ms, duration_ms)\n",
        "        chunk = audio[start_ms:end_ms]\n",
        "        chunk_path = f\"chunk_{idx:04d}.wav\"\n",
        "        chunk.export(chunk_path, format='wav')\n",
        "        chunks.append((start_ms//1000, end_ms//1000, chunk_path))\n",
        "        idx += 1\n",
        "        start_ms += chunk_ms\n",
        "    return chunks"
      ],
      "metadata": {
        "id": "uZ98j7DhAfn7"
      },
      "execution_count": null,
      "outputs": []
    },
    {
      "cell_type": "code",
      "source": [
        "def transcribe_chunks_and_save(chunks, out_textfile='transcript.txt', language='ko-KR'):\n",
        "    \"\"\"\n",
        "    chunks: list of (start_s, end_s, chunk_path)\n",
        "    speech_recognition의 Google API로 순차적으로 인식하고 파일에 append.\n",
        "    \"\"\"\n",
        "    r = sr.Recognizer()\n",
        "    # 결과 파일 덮어쓰기 모드로 시작\n",
        "    with open(out_textfile, 'w', encoding='utf-8') as f_out:\n",
        "        for start_s, end_s, chunk_path in chunks:\n",
        "            try:\n",
        "                with sr.AudioFile(chunk_path) as source:\n",
        "                    audio_data = r.record(source)\n",
        "                    # Google Web API 사용(인터넷 필요). 요금/제한 주의.\n",
        "                    text = r.recognize_google(audio_data, language=language)\n",
        "            except sr.UnknownValueError:\n",
        "                text = \"[음성 인식 불가]\"\n",
        "            except sr.RequestError as e:\n",
        "                text = f\"[API 요청 실패: {e}]\"\n",
        "            except Exception as e:\n",
        "                text = f\"[오류: {e}]\"\n",
        "\n",
        "            # 타임스탬프 붙여 저장\n",
        "            timestamp = f\"{format_time(start_s)} --> {format_time(end_s)}\"\n",
        "            f_out.write(f\"{timestamp}\\n{text}\\n\\n\")\n",
        "            print(f\"[{timestamp}] {text}\")"
      ],
      "metadata": {
        "id": "ddYnmzZvj-tU"
      },
      "execution_count": null,
      "outputs": []
    },
    {
      "cell_type": "code",
      "source": [
        "def format_time(s):\n",
        "    h = s // 3600\n",
        "    m = (s % 3600) // 60\n",
        "    sec = s % 60\n",
        "    if h:\n",
        "        return f\"{h:02d}:{m:02d}:{sec:02d}\"\n",
        "    else:\n",
        "        return f\"{m:02d}:{sec:02d}\""
      ],
      "metadata": {
        "id": "b4ttY9WKAj9Y"
      },
      "execution_count": null,
      "outputs": []
    },
    {
      "cell_type": "code",
      "source": [
        "def cleanup_temp(files):\n",
        "    for f in files:\n",
        "        try:\n",
        "            os.remove(f)\n",
        "        except:\n",
        "            pass"
      ],
      "metadata": {
        "id": "u9fG7KfqkC5l"
      },
      "execution_count": null,
      "outputs": []
    },
    {
      "cell_type": "code",
      "source": [
        "def main_batch(youtube_url):\n",
        "    print(\"다운로드 시작...\")\n",
        "    downloaded = download_audio_from_youtube(youtube_url, out_template='downloaded_audio.%(ext)s')\n",
        "    if not downloaded:\n",
        "        print(\"다운로드 실패\")\n",
        "        return\n",
        "    print(\"다운로드 완료:\", downloaded)\n",
        "\n",
        "    wav = convert_to_wav(downloaded, wav_path='converted_audio.wav')\n",
        "    if not wav:\n",
        "        print(\"WAV 변환 실패\")\n",
        "        return\n",
        "    print(\"WAV 변환 완료:\", wav)\n",
        "\n",
        "    print(\"오디오 분할...\")\n",
        "    chunks = split_audio(wav, chunk_length_s=30)\n",
        "    print(f\"생성된 청크 개수: {len(chunks)}\")\n",
        "\n",
        "    print(\"음성인식 시작...\")\n",
        "    transcribe_chunks_and_save(chunks, out_textfile='transcript.txt', language='ko-KR')\n",
        "    print(\"완료: transcript.txt 생성됨\")\n",
        "\n",
        "    # 임시파일 정리\n",
        "    cleanup_list = [downloaded, wav] + [c[2] for c in chunks]\n",
        "    cleanup_temp(cleanup_list)\n",
        "    print(\"임시파일 삭제 완료.\")"
      ],
      "metadata": {
        "id": "hAuNYK74kEJC"
      },
      "execution_count": null,
      "outputs": []
    },
    {
      "cell_type": "code",
      "source": [
        "if __name__ == '__main__':\n",
        "    url = input(\"YouTube 영상 URL을 입력하세요: \").strip()\n",
        "    main_batch(url)"
      ],
      "metadata": {
        "id": "AFvW9LdvAobb"
      },
      "execution_count": null,
      "outputs": []
    }
  ]
}